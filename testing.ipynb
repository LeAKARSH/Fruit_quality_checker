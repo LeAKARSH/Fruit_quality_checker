{
 "cells": [
  {
   "cell_type": "code",
   "execution_count": 28,
   "metadata": {},
   "outputs": [],
   "source": [
    "import os\n",
    "import cv2\n",
    "import numpy as np\n",
    "from tensorflow.keras.models import load_model\n",
    "from sklearn.metrics import accuracy_score"
   ]
  },
  {
   "cell_type": "code",
   "execution_count": 1,
   "metadata": {},
   "outputs": [],
   "source": [
    "DATA_DIR = 'C:/Users/Akarshjayanth.M.Naik/Desktop/my_fruit_checker/data/testing'  # path of the test data\n",
    "IMG_SIZE = 50\n",
    "MODEL_PATH = 'fruitquality-structured-cnn.h5'"
   ]
  },
  {
   "cell_type": "code",
   "execution_count": 30,
   "metadata": {},
   "outputs": [],
   "source": [
    "\n",
    "# Detect Fruit Types\n",
    "\n",
    "FRUIT_TYPES = []\n",
    "for item in os.listdir(DATA_DIR):\n",
    "    fruit_path = os.path.join(DATA_DIR, item)\n",
    "    if os.path.isdir(fruit_path):\n",
    "        if os.path.isdir(os.path.join(fruit_path, 'fresh')) and os.path.isdir(os.path.join(fruit_path, 'rotten')):\n",
    "            FRUIT_TYPES.append(item)"
   ]
  },
  {
   "cell_type": "code",
   "execution_count": 31,
   "metadata": {},
   "outputs": [],
   "source": [
    "\n",
    "# Recreate CATEGORIES and Label Map\n",
    "\n",
    "CATEGORIES = []\n",
    "label_map = {}  # e.g., {'fresh_apple': 0, 'rotten_apple': 1, ...}\n",
    "index = 0\n",
    "for fruit in FRUIT_TYPES:\n",
    "    for quality in ['fresh', 'rotten']:\n",
    "        cat = f\"{quality}_{fruit}\"\n",
    "        CATEGORIES.append(cat)\n",
    "        label_map[cat] = index\n",
    "        index += 1"
   ]
  },
  {
   "cell_type": "code",
   "execution_count": 32,
   "metadata": {},
   "outputs": [
    {
     "name": "stdout",
     "output_type": "stream",
     "text": [
      "Warning: Could not read image freshapples in rotten_apple. Skipping.\n",
      "Warning: Could not read image rottenapples in rotten_apple. Skipping.\n",
      "Shape of X_test: (4362, 50, 50, 1)\n",
      "Shape of y_test: (4362,)\n"
     ]
    }
   ],
   "source": [
    "\n",
    "# Load Test Data\n",
    "\n",
    "def load_test_data():\n",
    "    test_data = []\n",
    "    y_true = []\n",
    "\n",
    "    # Define label_map based on CATEGORIES list from training\n",
    "    label_map = {category: index for index, category in enumerate(CATEGORIES)}\n",
    "\n",
    "    for fruit in FRUIT_TYPES:\n",
    "        for quality in ['fresh', 'rotten']:\n",
    "            combined_category_name = f\"{quality}_{fruit}\" # Construct combined category name\n",
    "            if combined_category_name not in label_map: # Check if combined category is in label_map\n",
    "                print(f\"Warning: Combined category '{combined_category_name}' not found in label map. Skipping.\")\n",
    "                continue # Skip if the category is not in the label map\n",
    "\n",
    "            label = label_map[combined_category_name] # Use combined category name to get label\n",
    "            path = os.path.join(DATA_DIR, fruit, quality) # Use DATA_DIR (ensure it's set to test data dir if needed)\n",
    "            for img in os.listdir(path):\n",
    "                try:\n",
    "                    img_array = cv2.imread(os.path.join(path, img), cv2.IMREAD_GRAYSCALE)\n",
    "                    if img_array is None:\n",
    "                        print(f\"Warning: Could not read image {img} in {combined_category_name}. Skipping.\")\n",
    "                        continue\n",
    "                    img_array = cv2.resize(img_array, (IMG_SIZE, IMG_SIZE))\n",
    "                    test_data.append(img_array)\n",
    "                    y_true.append(label)\n",
    "                except Exception as e:\n",
    "                    print(f\"Error with image {img} in {combined_category_name}: {e}\")\n",
    "                    continue\n",
    "    return np.array(test_data), np.array(y_true)\n",
    "\n",
    "\n",
    "# --- Load the test data ---\n",
    "X_test, y_test = load_test_data()\n",
    "\n",
    "X_test = X_test.reshape(-1, IMG_SIZE, IMG_SIZE, 1)\n",
    "X_test = X_test / 255.0  # Normalize\n",
    "\n",
    "print(\"Shape of X_test:\", X_test.shape)\n",
    "print(\"Shape of y_test:\", y_test.shape)"
   ]
  },
  {
   "cell_type": "code",
   "execution_count": 33,
   "metadata": {},
   "outputs": [
    {
     "name": "stderr",
     "output_type": "stream",
     "text": [
      "WARNING:absl:Compiled the loaded model, but the compiled metrics have yet to be built. `model.compile_metrics` will be empty until you train or evaluate the model.\n"
     ]
    },
    {
     "name": "stdout",
     "output_type": "stream",
     "text": [
      "\u001b[1m137/137\u001b[0m \u001b[32m━━━━━━━━━━━━━━━━━━━━\u001b[0m\u001b[37m\u001b[0m \u001b[1m2s\u001b[0m 12ms/step\n",
      "\n",
      "✅ Test Accuracy: 95.71%\n"
     ]
    }
   ],
   "source": [
    "\n",
    "# Load Model and Predict\n",
    "model = load_model(MODEL_PATH)\n",
    "y_pred_probs = model.predict(X_test)\n",
    "y_pred = np.argmax(y_pred_probs, axis=1)\n",
    "\n",
    "\n",
    "# Evaluate Accuracy\n",
    "accuracy = accuracy_score(y_test, y_pred)\n",
    "print(f\"\\n✅ Test Accuracy: {accuracy * 100:.2f}%\")\n"
   ]
  },
  {
   "cell_type": "code",
   "execution_count": null,
   "metadata": {},
   "outputs": [],
   "source": []
  }
 ],
 "metadata": {
  "kernelspec": {
   "display_name": ".venv",
   "language": "python",
   "name": "python3"
  },
  "language_info": {
   "codemirror_mode": {
    "name": "ipython",
    "version": 3
   },
   "file_extension": ".py",
   "mimetype": "text/x-python",
   "name": "python",
   "nbconvert_exporter": "python",
   "pygments_lexer": "ipython3",
   "version": "3.12.9"
  }
 },
 "nbformat": 4,
 "nbformat_minor": 2
}
