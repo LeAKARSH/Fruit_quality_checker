{
 "cells": [
  {
   "cell_type": "code",
   "execution_count": 1,
   "metadata": {},
   "outputs": [],
   "source": [
    "import os\n",
    "import cv2\n",
    "import numpy as np\n",
    "from tensorflow.keras.models import load_model\n",
    "from sklearn.metrics import accuracy_score"
   ]
  },
  {
   "cell_type": "code",
   "execution_count": 2,
   "metadata": {},
   "outputs": [],
   "source": [
    "DATA_DIR = 'C:/Users/Akarshjayanth.M.Naik/Desktop/my_fruit_checker/data'  # Same as used during training\n",
    "IMG_SIZE = 50\n",
    "MODEL_PATH = 'C:/Users/Akarshjayanth.M.Naik/Desktop/my_fruit_checker/fruitquality-structured-cnn.h5'"
   ]
  },
  {
   "cell_type": "code",
   "execution_count": 3,
   "metadata": {},
   "outputs": [
    {
     "name": "stdout",
     "output_type": "stream",
     "text": [
      "Found fruit types: ['training']\n"
     ]
    }
   ],
   "source": [
    "# Get fruit types\n",
    "FRUIT_TYPES = []\n",
    "for item in os.listdir(DATA_DIR):\n",
    "    fruit_path = os.path.join(DATA_DIR, item)\n",
    "    if os.path.isdir(fruit_path):\n",
    "        FRUIT_TYPES.append(item)\n",
    "print(f\"Found fruit types: {FRUIT_TYPES}\")"
   ]
  },
  {
   "cell_type": "code",
   "execution_count": 20,
   "metadata": {},
   "outputs": [],
   "source": [
    "CATEGORIES = []\n",
    "label_map = {}  # e.g., {'fresh_apple': 0, 'rotten_apple': 1, ...}\n",
    "index = 0\n",
    "for fruit in FRUIT_TYPES:\n",
    "    for quality in ['fresh', 'rotten']:\n",
    "        cat = f\"{quality}_{fruit}\"\n",
    "        CATEGORIES.append(cat)\n",
    "        label_map[cat] = index\n",
    "        index += 1"
   ]
  },
  {
   "cell_type": "code",
   "execution_count": 23,
   "metadata": {},
   "outputs": [
    {
     "ename": "ValueError",
     "evalue": "No valid test images found. Please check your dataset path and image files.",
     "output_type": "error",
     "traceback": [
      "\u001b[31m---------------------------------------------------------------------------\u001b[39m",
      "\u001b[31mValueError\u001b[39m                                Traceback (most recent call last)",
      "\u001b[36mCell\u001b[39m\u001b[36m \u001b[39m\u001b[32mIn[23]\u001b[39m\u001b[32m, line 43\u001b[39m\n\u001b[32m     40\u001b[39m     \u001b[38;5;28;01mreturn\u001b[39;00m np.array(test_data), np.array(y_true)\n\u001b[32m     42\u001b[39m \u001b[38;5;66;03m# Load test data\u001b[39;00m\n\u001b[32m---> \u001b[39m\u001b[32m43\u001b[39m X_test, y_test = \u001b[43mload_test_data\u001b[49m\u001b[43m(\u001b[49m\u001b[43m)\u001b[49m\n\u001b[32m     45\u001b[39m \u001b[38;5;66;03m# Preprocess\u001b[39;00m\n\u001b[32m     46\u001b[39m X_test = X_test.reshape(-\u001b[32m1\u001b[39m, IMG_SIZE, IMG_SIZE, \u001b[32m1\u001b[39m)\n",
      "\u001b[36mCell\u001b[39m\u001b[36m \u001b[39m\u001b[32mIn[23]\u001b[39m\u001b[32m, line 38\u001b[39m, in \u001b[36mload_test_data\u001b[39m\u001b[34m()\u001b[39m\n\u001b[32m     35\u001b[39m                 \u001b[38;5;28;01mcontinue\u001b[39;00m\n\u001b[32m     37\u001b[39m \u001b[38;5;28;01mif\u001b[39;00m \u001b[38;5;129;01mnot\u001b[39;00m test_data:\n\u001b[32m---> \u001b[39m\u001b[32m38\u001b[39m     \u001b[38;5;28;01mraise\u001b[39;00m \u001b[38;5;167;01mValueError\u001b[39;00m(\u001b[33m\"\u001b[39m\u001b[33mNo valid test images found. Please check your dataset path and image files.\u001b[39m\u001b[33m\"\u001b[39m)\n\u001b[32m     40\u001b[39m \u001b[38;5;28;01mreturn\u001b[39;00m np.array(test_data), np.array(y_true)\n",
      "\u001b[31mValueError\u001b[39m: No valid test images found. Please check your dataset path and image files."
     ]
    }
   ],
   "source": [
    "def load_test_data():\n",
    "    test_data = []\n",
    "    y_true = []\n",
    "\n",
    "    # Ensure label_map exists and has all keys\n",
    "    label_map = {f\"{quality}_{fruit}\": idx for idx, fruit in enumerate(FRUIT_TYPES) for quality in ['fresh', 'rotten']}\n",
    "\n",
    "    for fruit in FRUIT_TYPES:\n",
    "        for quality in ['fresh', 'rotten']:\n",
    "            label_key = f\"{quality}_{fruit}\"\n",
    "            if label_key not in label_map:\n",
    "                print(f\"Warning: {label_key} not found in label_map.\")\n",
    "                continue\n",
    "\n",
    "            label = label_map[label_key]\n",
    "            path = os.path.join(DATA_DIR, fruit, quality)\n",
    "            if not os.path.exists(path):\n",
    "                print(f\"Path does not exist: {path}\")\n",
    "                continue\n",
    "\n",
    "            for img in os.listdir(path):\n",
    "                try:\n",
    "                    img_path = os.path.join(path, img)\n",
    "                    img_array = cv2.imread(img_path, cv2.IMREAD_GRAYSCALE)\n",
    "\n",
    "                    if img_array is None:\n",
    "                        print(f\"Skipped unreadable image: {img_path}\")\n",
    "                        continue\n",
    "\n",
    "                    img_array = cv2.resize(img_array, (IMG_SIZE, IMG_SIZE))\n",
    "                    test_data.append(img_array)\n",
    "                    y_true.append(label)\n",
    "                except Exception as e:\n",
    "                    print(f\"Error processing {img_path}: {e}\")\n",
    "                    continue\n",
    "\n",
    "    if not test_data:\n",
    "        raise ValueError(\"No valid test images found. Please check your dataset path and image files.\")\n",
    "\n",
    "    return np.array(test_data), np.array(y_true)\n",
    "\n",
    "# Load test data\n",
    "X_test, y_test = load_test_data()\n",
    "\n",
    "# Preprocess\n",
    "X_test = X_test.reshape(-1, IMG_SIZE, IMG_SIZE, 1)\n",
    "X_test = X_test / 255.0  # Normalize\n"
   ]
  },
  {
   "cell_type": "code",
   "execution_count": 22,
   "metadata": {},
   "outputs": [
    {
     "ename": "ValueError",
     "evalue": "X_test is empty! Please check your test data.",
     "output_type": "error",
     "traceback": [
      "\u001b[31m---------------------------------------------------------------------------\u001b[39m",
      "\u001b[31mValueError\u001b[39m                                Traceback (most recent call last)",
      "\u001b[36mCell\u001b[39m\u001b[36m \u001b[39m\u001b[32mIn[22]\u001b[39m\u001b[32m, line 2\u001b[39m\n\u001b[32m      1\u001b[39m \u001b[38;5;28;01mif\u001b[39;00m \u001b[38;5;28mlen\u001b[39m(X_test) == \u001b[32m0\u001b[39m:\n\u001b[32m----> \u001b[39m\u001b[32m2\u001b[39m     \u001b[38;5;28;01mraise\u001b[39;00m \u001b[38;5;167;01mValueError\u001b[39;00m(\u001b[33m\"\u001b[39m\u001b[33mX_test is empty! Please check your test data.\u001b[39m\u001b[33m\"\u001b[39m)\n",
      "\u001b[31mValueError\u001b[39m: X_test is empty! Please check your test data."
     ]
    }
   ],
   "source": [
    "if len(X_test) == 0:\n",
    "    raise ValueError(\"X_test is empty! Please check your test data.\")\n"
   ]
  },
  {
   "cell_type": "code",
   "execution_count": null,
   "metadata": {},
   "outputs": [],
   "source": []
  }
 ],
 "metadata": {
  "kernelspec": {
   "display_name": ".venv",
   "language": "python",
   "name": "python3"
  },
  "language_info": {
   "codemirror_mode": {
    "name": "ipython",
    "version": 3
   },
   "file_extension": ".py",
   "mimetype": "text/x-python",
   "name": "python",
   "nbconvert_exporter": "python",
   "pygments_lexer": "ipython3",
   "version": "3.12.9"
  }
 },
 "nbformat": 4,
 "nbformat_minor": 2
}
